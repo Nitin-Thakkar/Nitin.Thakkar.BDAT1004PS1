{
 "cells": [
  {
   "cell_type": "markdown",
   "id": "6d1522c0",
   "metadata": {},
   "source": [
    "<h1><font color='#004b87'>Question 1</font></h1>\n",
    "\n",
    "## What data type is each of the following (evaluate where necessary)?\n",
    "###### <br>5\n",
    "###### <br> 5.0\n",
    "###### <br>5 > 1\n",
    "###### <br>'5'\n",
    "###### <br>5 * 2\n",
    "###### <br>'5' * 2\n",
    "###### <br>'5' + '2'\n",
    "###### <br>5 / 2\n",
    "###### <br>5\n",
    "###### <br>2\n",
    "###### <br>{5, 2, 1}\n",
    "###### <br>5== 3\n",
    "###### <br>Pi (the number)"
   ]
  },
  {
   "cell_type": "code",
   "execution_count": 3,
   "id": "c8be6283",
   "metadata": {},
   "outputs": [
    {
     "name": "stdout",
     "output_type": "stream",
     "text": [
      "Data type of 5 is <class 'int'>\n",
      "Data type of 5.0 is <class 'float'>\n",
      "Data type of 5 > 1 is <class 'bool'>\n",
      "Data type of '5' is <class 'str'>\n",
      "Data type of 5 * 2 is <class 'int'>\n",
      "Data type of '5' * 2 is <class 'str'>\n",
      "Data type of '5' + '2' is <class 'str'>\n",
      "Data type of 5/2 is <class 'float'>\n",
      "Data type of 5%2 is <class 'int'>\n",
      "Data type of  {5, 2, 1} is <class 'set'>\n",
      "Data type of 5== 3 is <class 'bool'>\n",
      "Data type of Pi is <class 'float'>\n"
     ]
    }
   ],
   "source": [
    "import math\n",
    "\n",
    "print(\"Data type of 5 is\",type(5))\n",
    "print(\"Data type of 5.0 is\",type(5.0))\n",
    "print(\"Data type of 5 > 1 is\",type(5 > 1))\n",
    "print(\"Data type of '5' is\",type('5'))\n",
    "print(\"Data type of 5 * 2 is\",type(5*2))\n",
    "print(\"Data type of '5' * 2 is\",type('5'*2))\n",
    "print(\"Data type of '5' + '2' is\",type('5' + '2'))\n",
    "print(\"Data type of 5/2 is\",type(5/2))\n",
    "print(\"Data type of 5%2 is\",type(5%2))\n",
    "print(\"Data type of  {5, 2, 1} is\",type({5, 2, 1}))\n",
    "print(\"Data type of 5== 3 is\",type(5== 3))\n",
    "print(\"Data type of Pi is\",type(math.pi))\n"
   ]
  },
  {
   "cell_type": "markdown",
   "id": "7c5dd77e",
   "metadata": {},
   "source": [
    "<h1><font color='#004b87'>Question 2</font></h1>\n",
    "\n",
    "## Write (and evaluate) python expressions that answer these questions:\n",
    "> <h3>a. How many letters are there in 'Supercalifragilisticexpialidocious'? <br><br> </h3></h3>\n",
    "  <h3>b. Does 'Supercalifragilisticexpialidocious' contain 'ice' as a substring? <br><br></h3>\n",
    "  <h3>c. Which of the following words is the longest:<br><br></h3><h4>Supercalifragilisticexpialidocious, &nbsp;&nbsp;&nbsp;&nbsp;Honorificabilitudinitatibus, or Bababadalgharaghtakamminarronnkonn?<br><br></h4>\n",
    "  <h3>d. Which composer comes first in the dictionary: </h3><br><br><h4>'Berlioz', 'Borodin', 'Brian',\n",
    "'Bartok', 'Bellini', 'Buxtehude', 'Bernstein'. Which one comes last? </h4>"
   ]
  },
  {
   "cell_type": "code",
   "execution_count": 6,
   "id": "f7ea831e",
   "metadata": {},
   "outputs": [
    {
     "name": "stdout",
     "output_type": "stream",
     "text": [
      "Total letters in 'Supercalifragilisticexpialidocious' is :  34\n"
     ]
    }
   ],
   "source": [
    "#a. How many letters are there in 'Supercalifragilisticexpialidocious'?\n",
    "\n",
    "print(\"Total letters in 'Supercalifragilisticexpialidocious' is : \",len('Supercalifragilisticexpialidocious'))"
   ]
  },
  {
   "cell_type": "code",
   "execution_count": 7,
   "id": "89ca78ee",
   "metadata": {},
   "outputs": [
    {
     "name": "stdout",
     "output_type": "stream",
     "text": [
      "'ice' as a substring of 'Supercalifragilisticexpialidocious' :  True\n"
     ]
    }
   ],
   "source": [
    "#b. Does 'Supercalifragilisticexpialidocious' contain 'ice' as a substring?\n",
    "print(\"'ice' as a substring of 'Supercalifragilisticexpialidocious' : \", 'ice' in 'Supercalifragilisticexpialidocious')"
   ]
  },
  {
   "cell_type": "code",
   "execution_count": 9,
   "id": "0d0683dd",
   "metadata": {},
   "outputs": [
    {
     "name": "stdout",
     "output_type": "stream",
     "text": [
      "Length of 'Supercalifragilisticexpialidocious' is :  34\n",
      "Length of 'Honorificabilitudinitatibus' is :  27\n",
      "Length of 'Bababadalgharaghtakamminarronnkonn' is :  34\n"
     ]
    }
   ],
   "source": [
    "#c. Which of the following words is the longest:\n",
    "# Supercalifragilisticexpialidocious, Honorificabilitudinitatibus, or\n",
    "# Bababadalgharaghtakamminarronnkonn?\n",
    "\n",
    "'First lets check length of each string'\n",
    "\n",
    "print(\"Length of 'Supercalifragilisticexpialidocious' is : \",len('Supercalifragilisticexpialidocious'))\n",
    "print(\"Length of 'Honorificabilitudinitatibus' is : \",len('Honorificabilitudinitatibus'))\n",
    "print(\"Length of 'Bababadalgharaghtakamminarronnkonn' is : \",len('Bababadalgharaghtakamminarronnkonn'))"
   ]
  },
  {
   "cell_type": "markdown",
   "id": "a36d8e61",
   "metadata": {},
   "source": [
    "> #### So from the above output we can see that the first and last string have equal length (i.e 34) so both the strings are longest among the three strings."
   ]
  },
  {
   "cell_type": "markdown",
   "id": "0dd0b72a",
   "metadata": {},
   "source": [
    "<h1><font color='#004b87'>Question 3</font></h1>\n",
    "\n",
    "<h3>Implement function triangleArea(a,b,c) that takes as input the lengths of the 3 sides of a triangle and returns the area of the triangle. By Heron's formula, the area of a triangle with side lengths a, b, and c is s(s - a)(s -b)(s -c), where s = (a +b + c) /2.</h3>\n",
    "\n",
    "> <h3>triangleArea(2,2,2) <br>1.7320508075688772</h3>"
   ]
  },
  {
   "cell_type": "code",
   "execution_count": 1,
   "id": "d6b114a0",
   "metadata": {},
   "outputs": [],
   "source": [
    "import math\n",
    "def triangleArea(side1,side2,side3):\n",
    "    s = (side1+side2+side3)/2\n",
    "    return math.sqrt(s*(s-side1)*(s-side2)*(s-side3))"
   ]
  },
  {
   "cell_type": "code",
   "execution_count": 2,
   "id": "d376ac37",
   "metadata": {},
   "outputs": [
    {
     "name": "stdout",
     "output_type": "stream",
     "text": [
      "Area of Triagle is 1.7320508075688772\n"
     ]
    }
   ],
   "source": [
    "print( \"Area of Triagle is {}\".format(triangleArea(2,2,2)))"
   ]
  },
  {
   "cell_type": "markdown",
   "id": "80e28ea3",
   "metadata": {},
   "source": [
    "<h1><font color='#004b87'>Question 4</font></h1>\n",
    "\n",
    "## Write a program in python to separate odd and even integers in separate arrays. Go to the editor\n",
    "<h4> Write a program in python to separate odd and even integers in separate arrays. Go\n",
    "to the editor\n",
    "<br><br>\n",
    "Test Data :<br>\n",
    "Input the number of elements to be stored in the array :5 <br>\n",
    "Input 5 elements in the array :<br>\n",
    "element - 0 : 25<br>\n",
    "element - 1 : 47<br>\n",
    "element - 2 : 42<br>\n",
    "element - 3 : 56<br>\n",
    "element - 4 : 32<br>\n",
    "    \n",
    "> Expected Output:<br><br><br>\n",
    "The Even elements are:\n",
    "> 42 56 32 <br> <br>\n",
    "The Odd elements are :\n",
    "> 25 47 </h4>\n"
   ]
  },
  {
   "cell_type": "code",
   "execution_count": 96,
   "id": "dd4381b5",
   "metadata": {},
   "outputs": [
    {
     "name": "stdout",
     "output_type": "stream",
     "text": [
      "Input the number of elements to be stored in the array5\n",
      "Element 0 :25\n",
      "Element 1 :47\n",
      "Element 2 :42\n",
      "Element 3 :56\n",
      "Element 4 :32\n",
      "The Even elements are: [42, 56, 32] \n",
      "The Odd Elements Are : [25, 47]\n"
     ]
    }
   ],
   "source": [
    "listSize = int(input(\"Input the number of elements to be stored in the array\"))\n",
    "evenList = []\n",
    "oddList= []\n",
    "\n",
    "for i in range(0,listSize):\n",
    "    ele = int(input(\"Element {} :\".format(i)))\n",
    "    \n",
    "    if(ele % 2 ==0):\n",
    "        evenList.append(ele)\n",
    "    else:\n",
    "        oddList.append(ele)\n",
    "    \n",
    "\n",
    "print(\"The Even elements are: {0} \\nThe Odd Elements Are : {1}\".format(evenList,oddList))"
   ]
  },
  {
   "cell_type": "markdown",
   "id": "ef683a9a",
   "metadata": {},
   "source": [
    "<h1><font color='#004b87'>Question 5</font></h1>\n",
    "\n",
    "> <h4>a. Write a function inside(x,y,x1,y1,x2,y2) that returns True or False depending on whether the point (x,y) lies in the rectangle with lower left corner (x1,y1) and upper right corner (x2,y2).</h4>\n",
    "> <h4> inside(1,1,0,0,2,3) \n",
    "> <br>True</h4>\n",
    "> <h4>inside(-1,-1,0,0,2,3)\n",
    "<br>False</h4>"
   ]
  },
  {
   "cell_type": "code",
   "execution_count": 5,
   "id": "3c92e161",
   "metadata": {},
   "outputs": [],
   "source": [
    "def inside(x,y,x1,y1,x2,y2):\n",
    "    if((x >x1 and x<x2) and ((y>y1 and y <y2))):\n",
    "       return True\n",
    "    else:\n",
    "       return False"
   ]
  },
  {
   "cell_type": "code",
   "execution_count": 6,
   "id": "ddb0a13a",
   "metadata": {},
   "outputs": [
    {
     "name": "stdout",
     "output_type": "stream",
     "text": [
      "True\n",
      "False\n"
     ]
    }
   ],
   "source": [
    "print(inside(1,1,0,0,2,3))\n",
    "\n",
    "print(inside(-1,-1,0,0,2,3))"
   ]
  },
  {
   "cell_type": "markdown",
   "id": "e4ae6735",
   "metadata": {},
   "source": [
    "> <h4> b. Use function inside() from part a. to write an expression that tests whether the point (1,1) lies in both of the following rectangles: one with lower left corner (0.3, 0.5) and upper right corner (1.1, 0.7) and the other with lower left corner (0.5, 0.2) and upper right corner (1.1, 2). </h4>"
   ]
  },
  {
   "cell_type": "code",
   "execution_count": 7,
   "id": "019704e7",
   "metadata": {},
   "outputs": [
    {
     "name": "stdout",
     "output_type": "stream",
     "text": [
      "False\n",
      "True\n"
     ]
    }
   ],
   "source": [
    "print(inside(1,1,0.3,0.5,1.1,0.7))\n",
    "\n",
    "print(inside(1,1,0.5,0.2,1.1,2))"
   ]
  },
  {
   "cell_type": "markdown",
   "id": "0765891d",
   "metadata": {},
   "source": [
    "<h1><font color='#004b87'>Question 6</font></h1>\n",
    "\n",
    "## You can turn a word into pig-Latin using the following two rules (simplified):\n",
    "\n",
    "<h4> <li>If the word starts with a consonant, move that letter to the end and append 'ay'.</li><br>For example, 'happy' becomes 'appyhay' and 'pencil' becomes 'encilpay'.</h4>\n",
    "<h4><li>If the word starts with a vowel, simply append 'way' to the end of the word. </li><br>For example, 'enter' becomes 'enterway' and 'other' becomes 'otherway' . <br><br>For our purposes, there are 5 vowels: a, e, i, o, u (so we count y as a consonant)\n",
    "    \n",
    "<h4>Write a function pig() that takes a word (i.e., a string) as input and returns its pig-Latin form. Your function should still work if the input word contains upper case characters. Your output should always be lower case however.</h4>\n",
    "    \n",
    "> <h4>pig('happy') <br><br>\n",
    "    'appyhay'</h4>\n",
    "  <h4>pig('Enter'') <br><br>\n",
    "    'enterway'</h4>"
   ]
  },
  {
   "cell_type": "code",
   "execution_count": 48,
   "id": "786f5dcd",
   "metadata": {},
   "outputs": [],
   "source": [
    "def pig(word):\n",
    "    word = word.lower() # convert string into lower case\n",
    "    if(word[0] in ['a','e','i','o','u']):\n",
    "        word = word + 'way'\n",
    "    else:\n",
    "        word = word[1:len(word)] + word[0] + 'ay'\n",
    "    return word"
   ]
  },
  {
   "cell_type": "code",
   "execution_count": 56,
   "id": "6bd0019c",
   "metadata": {},
   "outputs": [
    {
     "name": "stdout",
     "output_type": "stream",
     "text": [
      "appyhay\n",
      "enterway\n",
      "encilpay\n",
      "otherway\n"
     ]
    }
   ],
   "source": [
    "print(pig(\"happy\"))\n",
    "print(pig(\"ENter\"))\n",
    "print(pig(\"pencil\"))\n",
    "print(pig(\"OTHER\"))"
   ]
  },
  {
   "cell_type": "markdown",
   "id": "faf6f8e7",
   "metadata": {},
   "source": [
    "<h1><font color='#004b87'>Question 7</font> <br>\n",
    "<h4>File bloodtype1.txt records blood-types of patients (A, B, AB, O or OO) at a clinic. Write a function bldcount() that reads the file with name name and reports (i.e., prints) how many patients there are in each bloodtype. <br><br>\n",
    "> bldcount('bloodtype.txt') </h4> <br>\n",
    "    <h4> <li>There are 10 patients of blood type A.</li>\n",
    "    <li> There is one patient of blood type B.</li>\n",
    "    <li> There are 10 patients of blood type AB. </li>\n",
    "        <li>There are 12 patients of blood type O.</li>\n",
    "        <li>There are no patients of blood type OO.</li><h4>"
   ]
  },
  {
   "cell_type": "code",
   "execution_count": 85,
   "id": "7b4f26b2",
   "metadata": {
    "scrolled": true
   },
   "outputs": [
    {
     "name": "stdout",
     "output_type": "stream",
     "text": [
      "There are 15 patients of blood type A \n",
      "There are one patients of blood type B\n",
      "There are 13 patients of blood type AB \n",
      "There are 15 patients of blood type O \n",
      "There are no patients of blood type OO\n"
     ]
    }
   ],
   "source": [
    "f = open (\"bloodtype.txt\").read()\n",
    "\n",
    "A=B=AB=O=OO=0\n",
    "for grp in f.split(\" \"):\n",
    "    grp=grp.lower()\n",
    "    if(grp == \"a\"):\n",
    "        A+=1\n",
    "    elif(grp == \"b\"):\n",
    "        B+=1\n",
    "    elif(grp == \"ab\"):\n",
    "        AB+=1\n",
    "    elif(grp == \"o\"):\n",
    "        O+=1\n",
    "    elif(grp == \"oo\"):\n",
    "        OO+=1\n",
    "\n",
    "        \n",
    "\n",
    "\n",
    "if(A==0 or A==1):\n",
    "    if(A==0):\n",
    "        A=\"no\"\n",
    "    else:\n",
    "        A = \"one\"\n",
    "if(B==0 or B==1):\n",
    "    if(B==0):\n",
    "        B=\"no\"\n",
    "    else:\n",
    "        B = \"one\"\n",
    "if(AB==0 or AB==1):\n",
    "    if(AB==0):\n",
    "        AB=\"no\"\n",
    "    else:\n",
    "        AB = \"one\"\n",
    "if(O==0 or O==1):\n",
    "    if(O==0):\n",
    "        O=\"no\"\n",
    "    else:\n",
    "        O = \"one\"\n",
    "if(OO==0 or OO==1):\n",
    "    if(OO==0):\n",
    "        OO = \"no\"\n",
    "    else:\n",
    "        OO = \"one\"\n",
    "print(\"There are {0} patients of blood type A \\nThere are {1} patients of blood type B\\nThere are {2} patients of blood type AB \\nThere are {3} patients of blood type O \\nThere are {4} patients of blood type OO\".format(A,B,AB,O,OO))\n"
   ]
  },
  {
   "cell_type": "markdown",
   "id": "1e3211df",
   "metadata": {},
   "source": [
    "<h1><font color='#004b87'>Question 8</font> <br></h1>\n",
    "<h4> Write a function curconv() that takes as input:</h4>\n",
    "<h4><li>1. a currency represented using a string (e.g., 'JPY' for the Japanese Yen or 'EUR' for the Euro) </li></h4>\n",
    "<h4><li>2. an amount </li></h4>\n",
    "<h4> and then converts and returns the amount in US dollars. </h4>\n",
    "\n",
    "><h4> curconv('EUR', 100) <br><br>\n",
    "    122.96544</h4>\n",
    "><h4> curconv('JPY', 100)<br><br>\n",
    "    1.241401</h4>\n",
    "\n",
    "<h4> The currency rates you will need are stored in file currencies.txt: </h4>\n",
    "<h4>AUD 1.0345157 Australian Dollar<br><br>\n",
    "CHF 1.0237414 Swiss Franc<br><br>\n",
    "CNY 0.1550176 Chinese Yuan <br><br>\n",
    "DKK 0.1651442 Danish Krone <br><br>\n",
    "EUR 1.2296544 Euro<br><br>\n",
    "GBP 1.5550989 British Pound<br><br>\n",
    "HKD 0.1270207 Hong Kong Dollar<br><br>\n",
    "INR 0.0177643 Indian Rupee<br><br>\n",
    "JPY 0.01241401 Japanese Yen<br><br>\n",
    "MXN 0.0751848 Mexican Peso<br><br>\n",
    "MYR 0.3145411 Malaysian Ringgi<br><br>\n",
    "NOK 0.1677063 Norwegian Krone<br><br>\n",
    "NZD 0.8003591 New Zealand Dollar<br><br>\n",
    "PHP 0.0233234 Philippine Peso<br><br>\n",
    "SEK 0.148269 Swedish Krona<br><br>\n",
    "SGD 0.788871 Singapore Dollar<br><br>\n",
    "THB 0.0313789 Thai Baht</h4>"
   ]
  },
  {
   "cell_type": "code",
   "execution_count": 127,
   "id": "327e1add",
   "metadata": {},
   "outputs": [
    {
     "name": "stdout",
     "output_type": "stream",
     "text": [
      "{'AUD': 1.0345157, 'CHF': 1.0237414, 'CNY': 0.1550176, 'DKK': 0.1651442, 'EUR': 1.2296544, 'GBP': 1.5550989, 'HKD': 0.1270207, 'INR': 0.0177643, 'JPY': 0.01241401, 'MXN': 0.0751848, 'MYR': 0.3145411, 'NOK': 0.1677063, 'NZD': 0.8003591, 'PHP': 0.0233234, 'SEK': 0.148269, 'SGD': 0.788871, 'THB': 0.0313789}\n"
     ]
    }
   ],
   "source": [
    "f = open(\"currencies.txt\",\"r\").readlines()\n",
    "currencyDic= {}\n",
    "for line in f:\n",
    "    currencyDic[line.split(\"\\t\")[0]] = float(line.split(\"\\t\")[1]) ## Createing dictinary where key = \"AUD\" and value is the rate\n",
    "\n",
    "print(currencyDic)\n",
    "\n"
   ]
  },
  {
   "cell_type": "code",
   "execution_count": 133,
   "id": "8e31039d",
   "metadata": {},
   "outputs": [],
   "source": [
    "def curconv(cur,amt):\n",
    "    if(cur in currencyDic):\n",
    "        return amt * currencyDic[cur]\n",
    "    else:\n",
    "        return \"No Country Found. Try Again!!\""
   ]
  },
  {
   "cell_type": "code",
   "execution_count": 134,
   "id": "35491602",
   "metadata": {},
   "outputs": [
    {
     "name": "stdout",
     "output_type": "stream",
     "text": [
      "Enter Currecy Initial :JPY\n",
      "Enter Amout :100\n",
      "1.241401\n"
     ]
    }
   ],
   "source": [
    "cur = input(\"Enter Currecy Initial :\")\n",
    "amt = float(input(\"Enter Amount to get USD Rate:\"))\n",
    "\n",
    "print(curconv(cur.upper(),amt))"
   ]
  },
  {
   "cell_type": "markdown",
   "id": "17981ff6",
   "metadata": {},
   "source": [
    "<h1><font color='#004b87'>Question 9</font> <br></h1>\n",
    "<h4>Each of the following will cause an exception (an error). Identify what type of exception each will cause.</h4>\n",
    "\n",
    "> <h4><li>Trying to add incompatible variables, as in adding 6 + ‘a’</li><br>\n",
    "        <li>Referring to the 12 th item of a list that has only 10 items</li><br>\n",
    "        <li>Using a value that is out of range for a function’s input, such as calling math.sqrt( 1.0) </li><br>\n",
    "        <li>Using an undeclared variable, such as print(x) when x has not been defined</li><br>\n",
    "        <li>Trying to open a file that does not exist, such as mistyping the file name or looking in the wrong directory.</li></h4>\n"
   ]
  },
  {
   "cell_type": "code",
   "execution_count": 10,
   "id": "de4bd077",
   "metadata": {},
   "outputs": [
    {
     "name": "stdout",
     "output_type": "stream",
     "text": [
      "Error Type :  <class 'TypeError'>\n",
      "Error Type :  unsupported operand type(s) for +: 'int' and 'str'\n"
     ]
    }
   ],
   "source": [
    "#Trying to add incompatible variables, as in adding 6 + ‘a’\n",
    "try:\n",
    "    print(6 + 'a')    \n",
    "except Exception as exception:\n",
    "    error = type(exception)\n",
    "    print(\"Error Type : \",error)\n",
    "    print(\"Error Type : \",str(exception))"
   ]
  },
  {
   "cell_type": "code",
   "execution_count": 11,
   "id": "7206dbc4",
   "metadata": {},
   "outputs": [
    {
     "name": "stdout",
     "output_type": "stream",
     "text": [
      "Error Type :  <class 'IndexError'>\n",
      "Error Type :  list index out of range\n"
     ]
    }
   ],
   "source": [
    "#Referring to the 12 th item of a list that has only 10 items\n",
    "lst = [0,1,2,3,4,5,6,7,8,9]\n",
    "try:\n",
    "    print(lst[12])    \n",
    "except Exception as exception:\n",
    "    error = type(exception)\n",
    "    print(\"Error Type : \",error)\n",
    "    print(\"Error Type : \",str(exception))"
   ]
  },
  {
   "cell_type": "code",
   "execution_count": 12,
   "id": "d434ef26",
   "metadata": {},
   "outputs": [
    {
     "name": "stdout",
     "output_type": "stream",
     "text": [
      "Error Type :  <class 'ValueError'>\n",
      "Error Type :  math domain error\n"
     ]
    }
   ],
   "source": [
    "#Using a value that is out of range for a function’s input, such as calling math.sqrt( 1.0)\n",
    "import math\n",
    "try:\n",
    "    math.sqrt(-1.0)\n",
    "except Exception as exception:\n",
    "    error = type(exception)\n",
    "    print(\"Error Type : \",error)\n",
    "    print(\"Error Type : \",str(exception))"
   ]
  },
  {
   "cell_type": "code",
   "execution_count": 13,
   "id": "b3ad3131",
   "metadata": {},
   "outputs": [
    {
     "name": "stdout",
     "output_type": "stream",
     "text": [
      "Error Type :  <class 'NameError'>\n",
      "Error Type :  name 'x' is not defined\n"
     ]
    }
   ],
   "source": [
    "# Using an undeclared variable, such as print(x) when x has not been defined\n",
    "try:\n",
    "    print(x)\n",
    "except Exception as exception:\n",
    "    error = type(exception)\n",
    "    print(\"Error Type : \",error)\n",
    "    print(\"Error Type : \",str(exception))"
   ]
  },
  {
   "cell_type": "code",
   "execution_count": 14,
   "id": "d25d4eef",
   "metadata": {},
   "outputs": [
    {
     "name": "stdout",
     "output_type": "stream",
     "text": [
      "Error Type :  <class 'FileNotFoundError'>\n",
      "Error Type :  [Errno 2] No such file or directory: 'noname.txt'\n"
     ]
    }
   ],
   "source": [
    "#trying to open a file that does not exist, such as mistyping the file name or looking in the wrong directory.\n",
    "try:\n",
    "    f = open(\"noname.txt\")\n",
    "except Exception as exception:\n",
    "    error = type(exception)\n",
    "    print(\"Error Type : \",error)\n",
    "    print(\"Error Type : \",str(exception))"
   ]
  },
  {
   "cell_type": "markdown",
   "id": "68f50733",
   "metadata": {},
   "source": [
    "<h1><font color='#004b87'>Question 10</font> <br></h1>\n",
    "<h4><p>Encryption is the process of hiding the meaning of a text by substituting letters in the message with other letters, according to some system. <br><br>If the process is successful, no one but the intended recipient can understand the encrypted message. Cryptanalysis refers to attempts to undo the encryption,<br><br> even if some details of the encryption are unknown (for example, if an encrypted message has been intercepted). The first step of cryptanalysis is<br><br> often to build up a table of letter frequencies in the encrypted text. Assume that the string letters is already defined as <br><br><i>'abcdefghijklmnopqrstuvwxyz'</i>. <br><br>Write a function called frequencies() that takes a string as its only parameter, and returns a list of integers, showing the number of times each <br><br>character appears in the text. Your function may ignore any characters that are not in letters.</p></h4>\n",
    "\n",
    "><h4> frequencies('The quick red fox got bored and went home.') <br><br>\n",
    "[1, 1, 1, 3, 5, 1, 1, 2, 1, 0, 1, 0, 1, 2, 4, 0, 1, 2, 0, 2, 1, 0, 1, 1, 0, 0]<h4>\n",
    "> frequencies('apple')"
   ]
  },
  {
   "cell_type": "code",
   "execution_count": 88,
   "id": "fe0797aa",
   "metadata": {},
   "outputs": [],
   "source": [
    "'''Creating dictinary from Ascii Values [a to z] and initalize count with zero as default value'''\n",
    "strDic = {}\n",
    "for num in range(97,123):\n",
    "    strDic[chr(num)] = 0"
   ]
  },
  {
   "cell_type": "code",
   "execution_count": 89,
   "id": "a3d0b614",
   "metadata": {},
   "outputs": [],
   "source": [
    "'''This function take string as input and count the number of occurance of each character and update the value in Dictionary'''\n",
    "'''It will return the result in a list'''\n",
    "def frequencies(inputString):\n",
    "    for ch in inputString:\n",
    "        if (ch in strDic):\n",
    "            strDic[ch] =int(strDic.get(ch)) + 1\n",
    "    return list(strDic.values()) # this will return only list of values of the dictionary. \n",
    "   "
   ]
  },
  {
   "cell_type": "code",
   "execution_count": 90,
   "id": "9726687e",
   "metadata": {},
   "outputs": [
    {
     "name": "stdout",
     "output_type": "stream",
     "text": [
      "Enter String : The quick red fox got bored and went home.\n",
      "[1, 1, 1, 3, 5, 1, 1, 2, 1, 0, 1, 0, 1, 2, 4, 0, 1, 2, 0, 3, 1, 0, 1, 1, 0, 0]\n"
     ]
    }
   ],
   "source": [
    "print(frequencies(input(\"Enter String : \").lower()))"
   ]
  },
  {
   "cell_type": "code",
   "execution_count": 91,
   "id": "ee9bea85",
   "metadata": {},
   "outputs": [
    {
     "data": {
      "text/plain": [
       "{'a': 1,\n",
       " 'b': 1,\n",
       " 'c': 1,\n",
       " 'd': 3,\n",
       " 'e': 5,\n",
       " 'f': 1,\n",
       " 'g': 1,\n",
       " 'h': 2,\n",
       " 'i': 1,\n",
       " 'j': 0,\n",
       " 'k': 1,\n",
       " 'l': 0,\n",
       " 'm': 1,\n",
       " 'n': 2,\n",
       " 'o': 4,\n",
       " 'p': 0,\n",
       " 'q': 1,\n",
       " 'r': 2,\n",
       " 's': 0,\n",
       " 't': 3,\n",
       " 'u': 1,\n",
       " 'v': 0,\n",
       " 'w': 1,\n",
       " 'x': 1,\n",
       " 'y': 0,\n",
       " 'z': 0}"
      ]
     },
     "execution_count": 91,
     "metadata": {},
     "output_type": "execute_result"
    }
   ],
   "source": [
    "strDic"
   ]
  }
 ],
 "metadata": {
  "kernelspec": {
   "display_name": "Python 3",
   "language": "python",
   "name": "python3"
  },
  "language_info": {
   "codemirror_mode": {
    "name": "ipython",
    "version": 3
   },
   "file_extension": ".py",
   "mimetype": "text/x-python",
   "name": "python",
   "nbconvert_exporter": "python",
   "pygments_lexer": "ipython3",
   "version": "3.8.8"
  }
 },
 "nbformat": 4,
 "nbformat_minor": 5
}
